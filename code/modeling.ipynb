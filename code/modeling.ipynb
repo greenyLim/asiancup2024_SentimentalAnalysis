{
 "cells": [
  {
   "cell_type": "code",
   "execution_count": null,
   "metadata": {
    "colab": {
     "base_uri": "https://localhost:8080/"
    },
    "id": "gtR9oUIRfgCE",
    "outputId": "dcbe486b-8c39-4f13-afd9-a0d848b7df52"
   },
   "outputs": [
    {
     "name": "stdout",
     "output_type": "stream",
     "text": [
      "Drive already mounted at /content/drive; to attempt to forcibly remount, call drive.mount(\"/content/drive\", force_remount=True).\n"
     ]
    }
   ],
   "source": [
    "from google.colab import drive\n",
    "drive.mount('/content/drive')"
   ]
  },
  {
   "cell_type": "markdown",
   "metadata": {
    "id": "X29eRYnlkbgW"
   },
   "source": [
    "###데이터 설명\n",
    "data1 조별리그~8강- 01.15_01.30(조별리그).csv<br>\n",
    "data2 16강~8강- 16_8강.csv<br>\n",
    "data3 8강~4강: 2024.02.02_02.06.csv<br>\n",
    "data4 4강~언플 이전: 02.07_02.14(4강~언플).csv<br>\n",
    "data5 언플~ 경질 이전: 02.15_02.16(언플~경질).csv<br>\n",
    "data6 경질 이후: 02.17_02.18(경질이후).csv<br>"
   ]
  },
  {
   "cell_type": "code",
   "execution_count": 34,
   "metadata": {
    "id": "YHhoK2Xufgw7"
   },
   "outputs": [],
   "source": [
    "import pandas as pd\n",
    "data1 = pd.read_csv('/content/drive/MyDrive/비타민NLP/data/01.15_01.30(조별리그).csv', encoding = 'utf-8')\n",
    "data2 = pd.read_csv('/content/drive/MyDrive/비타민NLP/data/16_8강.csv', encoding = 'utf-8')\n",
    "data3 = pd.read_csv('/content/drive/MyDrive/비타민NLP/data/2024.02.02_02.06.csv', encoding = 'utf-8')\n",
    "data4 = pd.read_csv('/content/drive/MyDrive/비타민NLP/data/02.07_02.14(4강~언플).csv', encoding = 'utf-8')\n",
    "data5 = pd.read_csv('/content/drive/MyDrive/비타민NLP/data/02.15_02.16(언플~경질).csv', encoding = 'utf-8')\n",
    "data6 = pd.read_csv('/content/drive/MyDrive/비타민NLP/data/02.17_02.18(경질이후).csv', encoding = 'utf-8')\n",
    "# data = pd.read_csv('', encoding = 'utf-8')\n",
    "# data = pd.read_csv('', encoding = 'utf-8')\n",
    "# data = pd.read_csv('', encoding = 'utf-8')\n",
    "data1['Label'] = '조별리그'\n",
    "data2['Label'] = '16~8강'\n",
    "data3['Label'] = '8강~4강'\n",
    "data4['Label'] = '4강~언플'\n",
    "data5['Label'] = '언플~경질'\n",
    "data6['Label'] = '경질이후'\n"
   ]
  },
  {
   "cell_type": "markdown",
   "metadata": {
    "id": "J7UXfC2hmab-"
   },
   "source": [
    "### Combined_data로 Concat<br>\n",
    "'date', 'link' column drop"
   ]
  },
  {
   "cell_type": "code",
   "execution_count": 35,
   "metadata": {
    "id": "h-xyGtdclSVE"
   },
   "outputs": [],
   "source": [
    "combined_data = pd.concat([data1, data2, data3, data4, data5, data6], ignore_index=True)"
   ]
  },
  {
   "cell_type": "code",
   "execution_count": 38,
   "metadata": {
    "id": "FmWb1DrylTsm"
   },
   "outputs": [],
   "source": [
    "drop_columns = ['date', 'link']\n",
    "\n",
    "combined_data.drop(drop_columns, axis = 1, inplace = True)"
   ]
  },
  {
   "cell_type": "code",
   "execution_count": 39,
   "metadata": {
    "colab": {
     "base_uri": "https://localhost:8080/",
     "height": 293
    },
    "id": "4bMhtYzwmW3G",
    "outputId": "43e12fc3-4bd2-455b-d337-9b8bc4b408a8"
   },
   "outputs": [
    {
     "data": {
      "application/vnd.google.colaboratory.intrinsic+json": {
       "summary": "{\n  \"name\": \"combined_data\",\n  \"rows\": 540,\n  \"fields\": [\n    {\n      \"column\": \"title\",\n      \"properties\": {\n        \"dtype\": \"string\",\n        \"samples\": [\n          \"\\ud074\\ub9b0\\uc2a4\\ub9cc\\ud638, \\uc0ac\\uc6b0\\ub514\\uc5d0 \\uc2b9\\ubd80\\ucc28\\uae30 \\uc2b9\\ub9ac\\u2026\\uc544\\uc2dc\\uc548\\ucef5 8\\uac15 \\uc9c4\\ucd9c\",\n          \"\\\"\\uacb0\\uacfc\\ub85c \\ubcf4\\uc5ec\\uc8fc\\uaca0\\ub2e4\\\" \\\"\\uc6d4\\ub4dc\\ucef5 4\\uac15\\\"\\u2026\\ud074\\ub9b0\\uc2a4\\ub9cc\\uc758 \\ub9d0\\ub9d0\\ub9d0\",\n          \"\\ud074\\ub9b0\\uc2a4\\ub9cc \\u201c\\uc6b0\\uc2b9\\uc5d0 \\uad76\\uc8fc\\ub838\\ub2e4\\u201d\"\n        ],\n        \"num_unique_values\": 530,\n        \"semantic_type\": \"\",\n        \"description\": \"\"\n      }\n    },\n    {\n      \"column\": \"source\",\n      \"properties\": {\n        \"dtype\": \"category\",\n        \"samples\": [\n          \"\\ud504\\ub808\\uc2dc\\uc548\\uc5b8\\ub860\\uc0ac \\uc120\\uc815\",\n          \"KBS\",\n          \"\\ub274\\uc2dc\\uc2a4\"\n        ],\n        \"num_unique_values\": 106,\n        \"semantic_type\": \"\",\n        \"description\": \"\"\n      }\n    },\n    {\n      \"column\": \"contents\",\n      \"properties\": {\n        \"dtype\": \"string\",\n        \"samples\": [\n          \"\\uc704\\ub974\\uac90 \\ud074\\ub9b0\\uc2a4\\ub9cc \\ud55c\\uad6d \\ucd95\\uad6c \\uad6d\\uac00\\ub300\\ud45c\\ud300 \\uac10\\ub3c5\\uc5d0 \\ub300\\ud55c \\uacbd\\uc9c8\\ub860\\uc774 \\uc815\\uce58\\uad8c\\uc5d0\\uc11c \\ube44\\ub4f1\\ud55c \\uac00\\uc6b4\\ub370, \\uc778\\ucc9c \\uacc4\\uc591\\uc744 \\ucd9c\\ub9c8\\ub97c \\uc900\\ube44 \\uc911\\uc778 \\uc6d0\\ud76c\\ub8e1 \\uc804 \\uad6d\\ud1a0\\uad50\\ud1b5\\ubd80 \\uc7a5\\uad00\\ub3c4 \\uacbd\\uc9c8\\ub860\\uc5d0 \\ud798\\uc744 \\uc2e4\\uc5c8\\ub2e4. \\uc6d0\\ud76c\\ub8e1 \\uc804 \\uc7a5\\uad00\\uc740 \\uc9c0\\ub09c 12\\uc77c \\uc790\\uc2e0\\uc758 \\ud398\\uc774\\uc2a4\\ubd81\\uc5d0 \\\"\\ud074\\ub9b0\\uc2a4\\ub9cc \\uac10\\ub3c5\\uc774 \\ub610 \\ud55c\\uad6d\\uc744 \\ub5a0\\ub098 \\ubbf8\\uad6d\\uc73c\\ub85c \\uac14\\ub2e4\\\"\\uba70 \\\"\\ud328\\ubc30\\uc5d0 \\ub300\\ud574 \\ucc45\\uc784\\uc788\\ub294 \\uc790\\uc138\\ub97c...\",\n          \"\\ub300\\ud55c\\ucd95\\uad6c\\ud611\\ud68c\\uac00 \\uad6d\\uac00\\ub300\\ud45c\\uc804\\ub825\\uac15\\ud654\\uc704\\uc6d0\\ud68c\\uc758 \\uc704\\ub974\\uac90 \\ud074\\ub9b0\\uc2a4\\ub9cc \\uac10\\ub3c5 \\uacbd\\uc9c8 \\uac74\\uc758\\ub97c \\ube44\\ub86f\\ud55c \\ub300\\ud45c\\ud300 \\ud604\\uc548\\uc744 16\\uc77c \\uc784\\uc6d0 \\ud68c\\uc758\\uc5d0\\uc11c \\ub17c\\uc758\\ud0a4\\ub85c \\ud588\\ub2e4. \\ud074\\ub9b0\\uc2a4\\ub9cc \\uac10\\ub3c5 \\uc601\\uc785\\uc744 \\uacb0\\uc815\\ud558\\uace0\\ub3c4 \\uadf8\\ub3d9\\uc548 \\ubcc4\\ub2e4\\ub978 \\uc785\\uc7a5\\uc744 \\ud45c\\uba85\\ud55c \\uc801 \\uc5c6\\ub294 \\uc815\\ubabd\\uaddc \\ud68c\\uc7a5\\ub3c4 \\ud68c\\uc758\\uc5d0 \\ucc38\\uc11d\\ud558\\ub294 \\ub9cc\\ud07c \\uc9c1\\uc811 \\ubc1c\\uc5b8\\uc5d0 \\ub098\\uc124\\uc9c0\\ub3c4 \\uad00\\uc2ec\\uc774 \\uc3e0\\ub9b0\\ub2e4. \\ucd95\\uad6c\\ud611\\ud68c\\ub294 16\\uc77c \\uc624\\uc804...\",\n          \"\\ub0b4\\uc77c \\uc88b\\uc740 \\uacbd\\uae30\\uac00 \\ub418\\ub3c4\\ub85d \\uc900\\ube44\\ud558\\uaca0\\ub2e4.\\u201d \\uc704\\ub974\\uac90 \\ud074\\ub9b0\\uc2a4\\ub9cc \\ud55c\\uad6d \\ucd95\\uad6c \\ub300\\ud45c\\ud300 \\uac10\\ub3c5\\uc740 \\uc544\\uc2dc\\uc544\\ucd95\\uad6c\\uc5f0\\ub9f9(AFC) \\uce74\\ud0c0\\ub974 \\uc544\\uc2dc\\uc548\\ucef5 \\uc0ac\\uc6b0\\ub514\\uc544\\ub77c\\ube44\\uc544\\uc640\\uc758 16\\uac15\\uc804... \\uc0ac\\uc6b0\\ub514\\ub97c \\ub9cc\\ub09c \\uc18c\\uac10\\uc73c\\ub85c \\ud074\\ub9b0\\uc2a4\\ub9cc \\uac10\\ub3c5\\uc740 \\u201c\\ud1a0\\ub108\\uba3c\\ud2b8 \\uccab \\uacbd\\uae30\\ub97c \\ube68\\ub9ac\\ud558\\uace0 \\uc2f6\\ub2e4. \\uc0ac\\uc6b0\\ub514\\ub77c\\ub294 \\uac15\\ud300\\uc744 \\uc0c1\\ub300\\ub85c \\uc88b\\uc740 \\uacbd\\uae30\\ub97c \\ubcf4\\uc5ec\\uc8fc\\uaca0\\ub2e4\\u201d\\uace0 \\ub2e4\\uc9d0\\ud588\\ub2e4....\"\n        ],\n        \"num_unique_values\": 526,\n        \"semantic_type\": \"\",\n        \"description\": \"\"\n      }\n    },\n    {\n      \"column\": \"Label\",\n      \"properties\": {\n        \"dtype\": \"category\",\n        \"samples\": [\n          \"\\uc870\\ubcc4\\ub9ac\\uadf8\",\n          \"16~8\\uac15\",\n          \"\\uacbd\\uc9c8\\uc774\\ud6c4\"\n        ],\n        \"num_unique_values\": 6,\n        \"semantic_type\": \"\",\n        \"description\": \"\"\n      }\n    }\n  ]\n}",
       "type": "dataframe",
       "variable_name": "combined_data"
      },
      "text/html": [
       "\n",
       "  <div id=\"df-13bbc3f4-17d5-4684-9fe4-53b79b3f6981\" class=\"colab-df-container\">\n",
       "    <div>\n",
       "<style scoped>\n",
       "    .dataframe tbody tr th:only-of-type {\n",
       "        vertical-align: middle;\n",
       "    }\n",
       "\n",
       "    .dataframe tbody tr th {\n",
       "        vertical-align: top;\n",
       "    }\n",
       "\n",
       "    .dataframe thead th {\n",
       "        text-align: right;\n",
       "    }\n",
       "</style>\n",
       "<table border=\"1\" class=\"dataframe\">\n",
       "  <thead>\n",
       "    <tr style=\"text-align: right;\">\n",
       "      <th></th>\n",
       "      <th>title</th>\n",
       "      <th>source</th>\n",
       "      <th>contents</th>\n",
       "      <th>Label</th>\n",
       "    </tr>\n",
       "  </thead>\n",
       "  <tbody>\n",
       "    <tr>\n",
       "      <th>0</th>\n",
       "      <td>ESPN \"말레이와 비기고도 웃은 클린스만, 여론 부정적\" [아시안컵]</td>\n",
       "      <td>뉴스1</td>\n",
       "      <td>글로벌 스포츠매체 ESPN이 64년 만에 아시안컵 우승을 목표로 내건 위르겐 클린스만 감독의 발언을 회의적으로 바라봤다. 최근 한국 내 부정적인 여론까지 더해져 만약 사우디아라비아에 패할 경우 잃을 것이 많다고 우려했다. 클린스만 감독이 이끄는 한국 축구대표팀은 31일 오전 1시(이하 한국시간) 카타르...</td>\n",
       "      <td>조별리그</td>\n",
       "    </tr>\n",
       "    <tr>\n",
       "      <th>1</th>\n",
       "      <td>\"실점할 것 같았어.\" 클린스만 그 웃음의 이유 [풀버전]</td>\n",
       "      <td>YTN</td>\n",
       "      <td>31일 01시(한국시간), 아시안컵 16강 사우디아라비아와의 경기를 앞두고 클린스만 축구 대표팀 감독이 공식 기자회견에 나섰습니다. 클린스만 감독은 말레이시아전 졸전에 대해 일본을 피하기 위한 것이 아니었다며 사우디아라비와의 경기에 최선을 다할 것이라 밝혔습니다. #클린스만...</td>\n",
       "      <td>조별리그</td>\n",
       "    </tr>\n",
       "    <tr>\n",
       "      <th>2</th>\n",
       "      <td>[밀물썰물] 벤치 데우는 클린스만</td>\n",
       "      <td>부산일보언론사 선정</td>\n",
       "      <td>아시안컵을 통해 드러난 위르겐 클린스만 국가대표 감독의 모습을 보면 너무나 실망스럽다. 빈약한 전술로 팬들의 비판을 받고 있는 클린스만 감독은 조별 리그 마지막 경기에선 열정마저도 보여주지 못했다. 경기 중 가끔 일어나 테크니컬 에어리어 쪽으로 갔지만 작전을 지시하는 모습은 좀처럼 볼 수...</td>\n",
       "      <td>조별리그</td>\n",
       "    </tr>\n",
       "    <tr>\n",
       "      <th>3</th>\n",
       "      <td>[아시안컵] 클린스만, 사우디전서 스리백 가동…손흥민 원톱 나설듯</td>\n",
       "      <td>연합뉴스</td>\n",
       "      <td>64년 만의 아시안컵 우승에 도전하는 클린스만호가 첫 고비인 사우디아라비아전에서 스리백 수비 전술을 가동한다. 31일 오전 1시(한국시간) 카타르... 클린스만호 출범 이후 처음으로 가동되는 스리백 선발 라인업이다. 설영우(울산)가 왼쪽 수비수로 나서고, 오른쪽 수비는 김태환(전북)이 맡는다. 앞선...</td>\n",
       "      <td>조별리그</td>\n",
       "    </tr>\n",
       "    <tr>\n",
       "      <th>4</th>\n",
       "      <td>이름값·연봉 최상위의 격돌…클린스만 vs 만치니 대결 '관심'</td>\n",
       "      <td>뉴시스</td>\n",
       "      <td>위르겐 클린스만(독일) 한국 감독과 로베르토 만치니(이탈리아) 사우디 감독의 맞대결이 관심이다. 한국은 오는 31일 오전 1시(한국시간) 카타르... 감독으로서의 지도력은 다소 떨어질 수 있으나, 명성과 연봉 부문에서는 클린스만 감독도 만치니 감독에게 밀리지 않는다. 클린스만 감독은 현역 시절 세계를...</td>\n",
       "      <td>조별리그</td>\n",
       "    </tr>\n",
       "  </tbody>\n",
       "</table>\n",
       "</div>\n",
       "    <div class=\"colab-df-buttons\">\n",
       "\n",
       "  <div class=\"colab-df-container\">\n",
       "    <button class=\"colab-df-convert\" onclick=\"convertToInteractive('df-13bbc3f4-17d5-4684-9fe4-53b79b3f6981')\"\n",
       "            title=\"Convert this dataframe to an interactive table.\"\n",
       "            style=\"display:none;\">\n",
       "\n",
       "  <svg xmlns=\"http://www.w3.org/2000/svg\" height=\"24px\" viewBox=\"0 -960 960 960\">\n",
       "    <path d=\"M120-120v-720h720v720H120Zm60-500h600v-160H180v160Zm220 220h160v-160H400v160Zm0 220h160v-160H400v160ZM180-400h160v-160H180v160Zm440 0h160v-160H620v160ZM180-180h160v-160H180v160Zm440 0h160v-160H620v160Z\"/>\n",
       "  </svg>\n",
       "    </button>\n",
       "\n",
       "  <style>\n",
       "    .colab-df-container {\n",
       "      display:flex;\n",
       "      gap: 12px;\n",
       "    }\n",
       "\n",
       "    .colab-df-convert {\n",
       "      background-color: #E8F0FE;\n",
       "      border: none;\n",
       "      border-radius: 50%;\n",
       "      cursor: pointer;\n",
       "      display: none;\n",
       "      fill: #1967D2;\n",
       "      height: 32px;\n",
       "      padding: 0 0 0 0;\n",
       "      width: 32px;\n",
       "    }\n",
       "\n",
       "    .colab-df-convert:hover {\n",
       "      background-color: #E2EBFA;\n",
       "      box-shadow: 0px 1px 2px rgba(60, 64, 67, 0.3), 0px 1px 3px 1px rgba(60, 64, 67, 0.15);\n",
       "      fill: #174EA6;\n",
       "    }\n",
       "\n",
       "    .colab-df-buttons div {\n",
       "      margin-bottom: 4px;\n",
       "    }\n",
       "\n",
       "    [theme=dark] .colab-df-convert {\n",
       "      background-color: #3B4455;\n",
       "      fill: #D2E3FC;\n",
       "    }\n",
       "\n",
       "    [theme=dark] .colab-df-convert:hover {\n",
       "      background-color: #434B5C;\n",
       "      box-shadow: 0px 1px 3px 1px rgba(0, 0, 0, 0.15);\n",
       "      filter: drop-shadow(0px 1px 2px rgba(0, 0, 0, 0.3));\n",
       "      fill: #FFFFFF;\n",
       "    }\n",
       "  </style>\n",
       "\n",
       "    <script>\n",
       "      const buttonEl =\n",
       "        document.querySelector('#df-13bbc3f4-17d5-4684-9fe4-53b79b3f6981 button.colab-df-convert');\n",
       "      buttonEl.style.display =\n",
       "        google.colab.kernel.accessAllowed ? 'block' : 'none';\n",
       "\n",
       "      async function convertToInteractive(key) {\n",
       "        const element = document.querySelector('#df-13bbc3f4-17d5-4684-9fe4-53b79b3f6981');\n",
       "        const dataTable =\n",
       "          await google.colab.kernel.invokeFunction('convertToInteractive',\n",
       "                                                    [key], {});\n",
       "        if (!dataTable) return;\n",
       "\n",
       "        const docLinkHtml = 'Like what you see? Visit the ' +\n",
       "          '<a target=\"_blank\" href=https://colab.research.google.com/notebooks/data_table.ipynb>data table notebook</a>'\n",
       "          + ' to learn more about interactive tables.';\n",
       "        element.innerHTML = '';\n",
       "        dataTable['output_type'] = 'display_data';\n",
       "        await google.colab.output.renderOutput(dataTable, element);\n",
       "        const docLink = document.createElement('div');\n",
       "        docLink.innerHTML = docLinkHtml;\n",
       "        element.appendChild(docLink);\n",
       "      }\n",
       "    </script>\n",
       "  </div>\n",
       "\n",
       "\n",
       "<div id=\"df-df2c349f-27ed-4ca6-a736-e5bf7304557e\">\n",
       "  <button class=\"colab-df-quickchart\" onclick=\"quickchart('df-df2c349f-27ed-4ca6-a736-e5bf7304557e')\"\n",
       "            title=\"Suggest charts\"\n",
       "            style=\"display:none;\">\n",
       "\n",
       "<svg xmlns=\"http://www.w3.org/2000/svg\" height=\"24px\"viewBox=\"0 0 24 24\"\n",
       "     width=\"24px\">\n",
       "    <g>\n",
       "        <path d=\"M19 3H5c-1.1 0-2 .9-2 2v14c0 1.1.9 2 2 2h14c1.1 0 2-.9 2-2V5c0-1.1-.9-2-2-2zM9 17H7v-7h2v7zm4 0h-2V7h2v10zm4 0h-2v-4h2v4z\"/>\n",
       "    </g>\n",
       "</svg>\n",
       "  </button>\n",
       "\n",
       "<style>\n",
       "  .colab-df-quickchart {\n",
       "      --bg-color: #E8F0FE;\n",
       "      --fill-color: #1967D2;\n",
       "      --hover-bg-color: #E2EBFA;\n",
       "      --hover-fill-color: #174EA6;\n",
       "      --disabled-fill-color: #AAA;\n",
       "      --disabled-bg-color: #DDD;\n",
       "  }\n",
       "\n",
       "  [theme=dark] .colab-df-quickchart {\n",
       "      --bg-color: #3B4455;\n",
       "      --fill-color: #D2E3FC;\n",
       "      --hover-bg-color: #434B5C;\n",
       "      --hover-fill-color: #FFFFFF;\n",
       "      --disabled-bg-color: #3B4455;\n",
       "      --disabled-fill-color: #666;\n",
       "  }\n",
       "\n",
       "  .colab-df-quickchart {\n",
       "    background-color: var(--bg-color);\n",
       "    border: none;\n",
       "    border-radius: 50%;\n",
       "    cursor: pointer;\n",
       "    display: none;\n",
       "    fill: var(--fill-color);\n",
       "    height: 32px;\n",
       "    padding: 0;\n",
       "    width: 32px;\n",
       "  }\n",
       "\n",
       "  .colab-df-quickchart:hover {\n",
       "    background-color: var(--hover-bg-color);\n",
       "    box-shadow: 0 1px 2px rgba(60, 64, 67, 0.3), 0 1px 3px 1px rgba(60, 64, 67, 0.15);\n",
       "    fill: var(--button-hover-fill-color);\n",
       "  }\n",
       "\n",
       "  .colab-df-quickchart-complete:disabled,\n",
       "  .colab-df-quickchart-complete:disabled:hover {\n",
       "    background-color: var(--disabled-bg-color);\n",
       "    fill: var(--disabled-fill-color);\n",
       "    box-shadow: none;\n",
       "  }\n",
       "\n",
       "  .colab-df-spinner {\n",
       "    border: 2px solid var(--fill-color);\n",
       "    border-color: transparent;\n",
       "    border-bottom-color: var(--fill-color);\n",
       "    animation:\n",
       "      spin 1s steps(1) infinite;\n",
       "  }\n",
       "\n",
       "  @keyframes spin {\n",
       "    0% {\n",
       "      border-color: transparent;\n",
       "      border-bottom-color: var(--fill-color);\n",
       "      border-left-color: var(--fill-color);\n",
       "    }\n",
       "    20% {\n",
       "      border-color: transparent;\n",
       "      border-left-color: var(--fill-color);\n",
       "      border-top-color: var(--fill-color);\n",
       "    }\n",
       "    30% {\n",
       "      border-color: transparent;\n",
       "      border-left-color: var(--fill-color);\n",
       "      border-top-color: var(--fill-color);\n",
       "      border-right-color: var(--fill-color);\n",
       "    }\n",
       "    40% {\n",
       "      border-color: transparent;\n",
       "      border-right-color: var(--fill-color);\n",
       "      border-top-color: var(--fill-color);\n",
       "    }\n",
       "    60% {\n",
       "      border-color: transparent;\n",
       "      border-right-color: var(--fill-color);\n",
       "    }\n",
       "    80% {\n",
       "      border-color: transparent;\n",
       "      border-right-color: var(--fill-color);\n",
       "      border-bottom-color: var(--fill-color);\n",
       "    }\n",
       "    90% {\n",
       "      border-color: transparent;\n",
       "      border-bottom-color: var(--fill-color);\n",
       "    }\n",
       "  }\n",
       "</style>\n",
       "\n",
       "  <script>\n",
       "    async function quickchart(key) {\n",
       "      const quickchartButtonEl =\n",
       "        document.querySelector('#' + key + ' button');\n",
       "      quickchartButtonEl.disabled = true;  // To prevent multiple clicks.\n",
       "      quickchartButtonEl.classList.add('colab-df-spinner');\n",
       "      try {\n",
       "        const charts = await google.colab.kernel.invokeFunction(\n",
       "            'suggestCharts', [key], {});\n",
       "      } catch (error) {\n",
       "        console.error('Error during call to suggestCharts:', error);\n",
       "      }\n",
       "      quickchartButtonEl.classList.remove('colab-df-spinner');\n",
       "      quickchartButtonEl.classList.add('colab-df-quickchart-complete');\n",
       "    }\n",
       "    (() => {\n",
       "      let quickchartButtonEl =\n",
       "        document.querySelector('#df-df2c349f-27ed-4ca6-a736-e5bf7304557e button');\n",
       "      quickchartButtonEl.style.display =\n",
       "        google.colab.kernel.accessAllowed ? 'block' : 'none';\n",
       "    })();\n",
       "  </script>\n",
       "</div>\n",
       "\n",
       "    </div>\n",
       "  </div>\n"
      ],
      "text/plain": [
       "                                     title      source  \\\n",
       "0  ESPN \"말레이와 비기고도 웃은 클린스만, 여론 부정적\" [아시안컵]         뉴스1   \n",
       "1         \"실점할 것 같았어.\" 클린스만 그 웃음의 이유 [풀버전]         YTN   \n",
       "2                       [밀물썰물] 벤치 데우는 클린스만  부산일보언론사 선정   \n",
       "3     [아시안컵] 클린스만, 사우디전서 스리백 가동…손흥민 원톱 나설듯        연합뉴스   \n",
       "4       이름값·연봉 최상위의 격돌…클린스만 vs 만치니 대결 '관심'         뉴시스   \n",
       "\n",
       "                                                                                                                                                                       contents  \\\n",
       "0  글로벌 스포츠매체 ESPN이 64년 만에 아시안컵 우승을 목표로 내건 위르겐 클린스만 감독의 발언을 회의적으로 바라봤다. 최근 한국 내 부정적인 여론까지 더해져 만약 사우디아라비아에 패할 경우 잃을 것이 많다고 우려했다. 클린스만 감독이 이끄는 한국 축구대표팀은 31일 오전 1시(이하 한국시간) 카타르...   \n",
       "1                  31일 01시(한국시간), 아시안컵 16강 사우디아라비아와의 경기를 앞두고 클린스만 축구 대표팀 감독이 공식 기자회견에 나섰습니다. 클린스만 감독은 말레이시아전 졸전에 대해 일본을 피하기 위한 것이 아니었다며 사우디아라비와의 경기에 최선을 다할 것이라 밝혔습니다. #클린스만...   \n",
       "2          아시안컵을 통해 드러난 위르겐 클린스만 국가대표 감독의 모습을 보면 너무나 실망스럽다. 빈약한 전술로 팬들의 비판을 받고 있는 클린스만 감독은 조별 리그 마지막 경기에선 열정마저도 보여주지 못했다. 경기 중 가끔 일어나 테크니컬 에어리어 쪽으로 갔지만 작전을 지시하는 모습은 좀처럼 볼 수...   \n",
       "3    64년 만의 아시안컵 우승에 도전하는 클린스만호가 첫 고비인 사우디아라비아전에서 스리백 수비 전술을 가동한다. 31일 오전 1시(한국시간) 카타르... 클린스만호 출범 이후 처음으로 가동되는 스리백 선발 라인업이다. 설영우(울산)가 왼쪽 수비수로 나서고, 오른쪽 수비는 김태환(전북)이 맡는다. 앞선...   \n",
       "4   위르겐 클린스만(독일) 한국 감독과 로베르토 만치니(이탈리아) 사우디 감독의 맞대결이 관심이다. 한국은 오는 31일 오전 1시(한국시간) 카타르... 감독으로서의 지도력은 다소 떨어질 수 있으나, 명성과 연봉 부문에서는 클린스만 감독도 만치니 감독에게 밀리지 않는다. 클린스만 감독은 현역 시절 세계를...   \n",
       "\n",
       "  Label  \n",
       "0  조별리그  \n",
       "1  조별리그  \n",
       "2  조별리그  \n",
       "3  조별리그  \n",
       "4  조별리그  "
      ]
     },
     "execution_count": 39,
     "metadata": {},
     "output_type": "execute_result"
    }
   ],
   "source": [
    "combined_data.head()"
   ]
  },
  {
   "cell_type": "code",
   "execution_count": null,
   "metadata": {
    "id": "3W0DvNKlfyKY"
   },
   "outputs": [],
   "source": [
    "# pd.set_option('display.max_rows', None)\n",
    "# pd.set_option('display.max_colwidth', None)\n"
   ]
  },
  {
   "cell_type": "markdown",
   "metadata": {
    "id": "Ewx_udQcozqY"
   },
   "source": [
    "### 데이터 EDA"
   ]
  },
  {
   "cell_type": "code",
   "execution_count": null,
   "metadata": {
    "id": "mTN-sEG7hazA"
   },
   "outputs": [],
   "source": [
    "!pip install https://github.com/pandas-profiling/pandas-profiling/archive/master.zip"
   ]
  },
  {
   "cell_type": "code",
   "execution_count": null,
   "metadata": {
    "id": "s3vXaGYrhcJG"
   },
   "outputs": [],
   "source": [
    "import pandas_profiling as pp\n",
    "import matplotlib\n",
    "import seaborn as sns\n",
    "matplotlib.font_manager._rebuild()\n",
    "matplotlib.plt.rc('font', family = 'Malgun Gothic')\n",
    "pp.ProfileReport(combined_data)"
   ]
  },
  {
   "cell_type": "markdown",
   "metadata": {
    "id": "zzOFwwLKo01f"
   },
   "source": [
    "### 모델링"
   ]
  },
  {
   "cell_type": "code",
   "execution_count": null,
   "metadata": {
    "id": "F30rhChwgm3P"
   },
   "outputs": [],
   "source": [
    "!pip install transformers\n",
    "from transformers import pipeline"
   ]
  },
  {
   "cell_type": "code",
   "execution_count": null,
   "metadata": {
    "id": "mW2LXCZ-gNNK"
   },
   "outputs": [],
   "source": [
    "sentiment_classification = pipeline(\"text-classification\", \"amphora/KorFinASC-XLM-RoBERTa\")\n"
   ]
  },
  {
   "cell_type": "markdown",
   "metadata": {
    "id": "Fliu83b7qRfY"
   },
   "source": [
    "Title에 대한 감성 분류"
   ]
  },
  {
   "cell_type": "code",
   "execution_count": 54,
   "metadata": {
    "id": "FN-_t0r_f9xK"
   },
   "outputs": [],
   "source": [
    "combined_data['classification_title'] = None\n",
    "for i in range(len(combined_data)):\n",
    "  combined_data['classification_title'][i] = sentiment_classification(combined_data['title'].iloc[i])\n",
    "\n"
   ]
  },
  {
   "cell_type": "code",
   "execution_count": null,
   "metadata": {
    "id": "dM4-94CjrlPs"
   },
   "outputs": [],
   "source": [
    "combined_data['classification'].head()"
   ]
  },
  {
   "cell_type": "code",
   "execution_count": 56,
   "metadata": {
    "id": "qLpl__STpkuW"
   },
   "outputs": [],
   "source": [
    "combined_data['classification_contents'] = None\n",
    "for i in range(len(combined_data)):\n",
    "  combined_data['classification_contents'][i] = sentiment_classification(combined_data['contents'].iloc[i])\n",
    "\n"
   ]
  },
  {
   "cell_type": "code",
   "execution_count": 59,
   "metadata": {
    "colab": {
     "base_uri": "https://localhost:8080/"
    },
    "id": "gswjD75MrotD",
    "outputId": "1bdf35f6-12f7-4526-85f3-b522c2e15faa"
   },
   "outputs": [
    {
     "data": {
      "text/plain": [
       "0    [{'label': 'negative', 'score': 0.9390448927879333}]\n",
       "1     [{'label': 'neutral', 'score': 0.9988835453987122}]\n",
       "2    [{'label': 'negative', 'score': 0.9974181652069092}]\n",
       "3     [{'label': 'neutral', 'score': 0.9743449091911316}]\n",
       "4     [{'label': 'neutral', 'score': 0.9765672087669373}]\n",
       "Name: classification_contents, dtype: object"
      ]
     },
     "execution_count": 59,
     "metadata": {},
     "output_type": "execute_result"
    }
   ],
   "source": [
    "combined_data['classification_contents'].head()"
   ]
  },
  {
   "cell_type": "markdown",
   "metadata": {
    "id": "Xj28wf-30umc"
   },
   "source": [
    "### 결과값 내보내기"
   ]
  },
  {
   "cell_type": "code",
   "execution_count": 71,
   "metadata": {
    "id": "xVI2I2c2y2XB"
   },
   "outputs": [],
   "source": [
    "result = combined_data[['Label','classification_title','classification_contents']]"
   ]
  },
  {
   "cell_type": "code",
   "execution_count": 73,
   "metadata": {
    "id": "ElwoRZtD0SmE"
   },
   "outputs": [],
   "source": [
    "result.head()\n",
    "result.to_csv(\"/content/drive/MyDrive/비타민NLP/data/result.csv\", index=False)"
   ]
  }
 ],
 "metadata": {
  "colab": {
   "collapsed_sections": [
    "Xj28wf-30umc",
    "Ygnpe2h256no"
   ],
   "provenance": [],
   "toc_visible": true
  },
  "kernelspec": {
   "display_name": "Python 3 (ipykernel)",
   "language": "python",
   "name": "python3"
  },
  "language_info": {
   "codemirror_mode": {
    "name": "ipython",
    "version": 3
   },
   "file_extension": ".py",
   "mimetype": "text/x-python",
   "name": "python",
   "nbconvert_exporter": "python",
   "pygments_lexer": "ipython3",
   "version": "3.9.13"
  }
 },
 "nbformat": 4,
 "nbformat_minor": 1
}
